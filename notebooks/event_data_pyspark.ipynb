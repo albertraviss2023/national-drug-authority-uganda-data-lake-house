{
 "cells": [
  {
   "cell_type": "code",
   "execution_count": null,
   "id": "65349b55-529a-4fd0-aade-82a215f35a5b",
   "metadata": {},
   "outputs": [],
   "source": [
    "!pip install findspark"
   ]
  },
  {
   "cell_type": "code",
   "execution_count": 18,
   "id": "0f2a76cf-12eb-425d-b675-ca37197a4a51",
   "metadata": {},
   "outputs": [],
   "source": [
    "import findspark\n",
    "findspark.init()\n",
    "\n",
    "from pyspark.sql import SparkSession\n",
    "from IPython.core.magic import register_cell_magic"
   ]
  },
  {
   "cell_type": "code",
   "execution_count": 52,
   "id": "179ce1da-2c40-446e-8c5d-857b2ce27b56",
   "metadata": {},
   "outputs": [],
   "source": [
    "from pyspark.sql import SparkSession\n",
    "from pyspark.sql.functions import col\n",
    "\n",
    "spark = SparkSession.builder \\\n",
    "    .appName(\"Iceberg-MinIO\") \\\n",
    "    .config(\"spark.sql.catalog\", \"mycatalog\") \\\n",
    "    .config(\"spark.sql.catalog.mycatalog\", \"org.apache.iceberg.spark.SparkCatalog\") \\\n",
    "    .config(\"spark.sql.catalog.mycatalog.catalog-impl\", \"org.apache.iceberg.rest.RESTCatalog\") \\\n",
    "    .config(\"spark.sql.catalog.mycatalog.uri\", \"http://iceberg-rest:8181\") \\\n",
    "    .config(\"spark.sql.catalog.mycatalog.warehouse\", \"s3://warehouse/\") \\\n",
    "    .config(\"spark.sql.catalog.mycatalog.io-impl\", \"org.apache.iceberg.aws.s3.S3FileIO\") \\\n",
    "    .config(\"spark.sql.catalog.mycatalog.s3.endpoint\", \"http://minio:9000\") \\\n",
    "    .config(\"spark.sql.catalog.mycatalog.s3.region\", \"us-east-1\") \\\n",
    "    .config(\"spark.sql.catalog.mycatalog.s3.path-style-access\", \"true\") \\\n",
    "    .config(\"spark.sql.catalog.mycatalog.s3.signing-region\", \"us-east-1\") \\\n",
    "    .config(\"spark.sql.catalog.mycatalog.s3.signing-name\", \"s3\") \\\n",
    "    .config(\"spark.hadoop.fs.s3a.endpoint\", \"http://minio:9000\") \\\n",
    "    .config(\"spark.hadoop.fs.s3a.path.style.access\", \"true\") \\\n",
    "    .config(\"spark.hadoop.fs.s3a.access.key\", \"minioadmin\") \\\n",
    "    .config(\"spark.hadoop.fs.s3a.secret.key\", \"minioadmin123\") \\\n",
    "    .config(\"spark.hadoop.fs.s3a.aws.credentials.provider\", \"org.apache.hadoop.fs.s3a.SimpleAWSCredentialsProvider\") \\\n",
    "    .getOrCreate()\n"
   ]
  },
  {
   "cell_type": "code",
   "execution_count": 20,
   "id": "ef0cbead-5186-4ec1-a578-0b3cb430e7a0",
   "metadata": {},
   "outputs": [
    {
     "name": "stdout",
     "output_type": "stream",
     "text": [
      "Spark session and %%sparksql magic initialized!\n"
     ]
    }
   ],
   "source": [
    "# Define the %%sparksql cell magic\n",
    "@register_cell_magic\n",
    "def sparksql(line, cell):\n",
    "    \"\"\"Run SQL queries using %%sparksql in a Jupyter cell.\"\"\"\n",
    "    result = spark.sql(cell)\n",
    "    result.show(truncate=False)\n",
    "    return result\n",
    "\n",
    "print(\"Spark session and %%sparksql magic initialized!\")"
   ]
  },
  {
   "cell_type": "code",
   "execution_count": 21,
   "id": "fa5a9ddf-c174-485d-b338-e70d4ee47a03",
   "metadata": {},
   "outputs": [
    {
     "name": "stdout",
     "output_type": "stream",
     "text": [
      "+-------------+\n",
      "|catalog      |\n",
      "+-------------+\n",
      "|mycatalog    |\n",
      "|spark_catalog|\n",
      "+-------------+\n",
      "\n"
     ]
    },
    {
     "data": {
      "text/plain": [
       "DataFrame[catalog: string]"
      ]
     },
     "execution_count": 21,
     "metadata": {},
     "output_type": "execute_result"
    }
   ],
   "source": [
    "%%sparksql\n",
    "SHOW CATALOGS"
   ]
  },
  {
   "cell_type": "code",
   "execution_count": 41,
   "id": "1b917510-299e-45a9-8d46-c0f10b485d21",
   "metadata": {},
   "outputs": [
    {
     "name": "stdout",
     "output_type": "stream",
     "text": [
      "+---------+---------------+-----------+\n",
      "|namespace|tableName      |isTemporary|\n",
      "+---------+---------------+-----------+\n",
      "|bootcamp |events         |false      |\n",
      "|bootcamp |events_sorted  |false      |\n",
      "|bootcamp |events_unsorted|false      |\n",
      "+---------+---------------+-----------+\n",
      "\n"
     ]
    },
    {
     "data": {
      "text/plain": [
       "DataFrame[namespace: string, tableName: string, isTemporary: boolean]"
      ]
     },
     "execution_count": 41,
     "metadata": {},
     "output_type": "execute_result"
    }
   ],
   "source": [
    "%%sparksql\n",
    "SHOW TABLES IN iceberg.bootcamp"
   ]
  },
  {
   "cell_type": "code",
   "execution_count": 44,
   "id": "a73d9912-764d-4565-ac1e-d4cfcf669e7c",
   "metadata": {},
   "outputs": [
    {
     "name": "stdout",
     "output_type": "stream",
     "text": [
      "Collecting jupyter-spark\n",
      "  Downloading jupyter_spark-0.4.0-py2.py3-none-any.whl (7.5 kB)\n",
      "Requirement already satisfied: beautifulsoup4 in /usr/local/lib/python3.8/dist-packages (from jupyter-spark) (4.13.4)\n",
      "Collecting jupyter\n",
      "  Downloading jupyter-1.1.1-py2.py3-none-any.whl (2.7 kB)\n",
      "Requirement already satisfied: ipython>=4 in /usr/local/lib/python3.8/dist-packages (from jupyter-spark) (8.12.0)\n",
      "Collecting widgetsnbextension\n",
      "  Downloading widgetsnbextension-4.0.14-py3-none-any.whl (2.2 MB)\n",
      "\u001b[K     |████████████████████████████████| 2.2 MB 249 kB/s eta 0:00:01\n",
      "\u001b[?25hCollecting notebook>=4.2\n",
      "  Downloading notebook-7.4.4-py3-none-any.whl (14.3 MB)\n",
      "\u001b[K     |████████████████████████████████| 14.3 MB 9.7 MB/s eta 0:00:01    |███████                         | 3.1 MB 7.4 MB/s eta 0:00:02\n",
      "\u001b[?25hRequirement already satisfied: typing-extensions>=4.0.0 in /usr/local/lib/python3.8/dist-packages (from beautifulsoup4->jupyter-spark) (4.13.2)\n",
      "Requirement already satisfied: soupsieve>1.2 in /usr/local/lib/python3.8/dist-packages (from beautifulsoup4->jupyter-spark) (2.7)\n",
      "Collecting ipywidgets\n",
      "  Downloading ipywidgets-8.1.7-py3-none-any.whl (139 kB)\n",
      "\u001b[K     |████████████████████████████████| 139 kB 9.4 MB/s eta 0:00:01\n",
      "\u001b[?25hCollecting jupyter-console\n",
      "  Downloading jupyter_console-6.6.3-py3-none-any.whl (24 kB)\n",
      "Requirement already satisfied: ipykernel in /usr/local/lib/python3.8/dist-packages (from jupyter->jupyter-spark) (6.29.5)\n",
      "Requirement already satisfied: nbconvert in /usr/local/lib/python3.8/dist-packages (from jupyter->jupyter-spark) (7.16.6)\n",
      "Requirement already satisfied: jupyterlab in /usr/local/lib/python3.8/dist-packages (from jupyter->jupyter-spark) (4.2.5)\n",
      "Requirement already satisfied: pexpect>4.3; sys_platform != \"win32\" in /usr/local/lib/python3.8/dist-packages (from ipython>=4->jupyter-spark) (4.9.0)\n",
      "Requirement already satisfied: backcall in /usr/local/lib/python3.8/dist-packages (from ipython>=4->jupyter-spark) (0.2.0)\n",
      "Requirement already satisfied: traitlets>=5 in /usr/local/lib/python3.8/dist-packages (from ipython>=4->jupyter-spark) (5.14.3)\n",
      "Requirement already satisfied: matplotlib-inline in /usr/local/lib/python3.8/dist-packages (from ipython>=4->jupyter-spark) (0.1.7)\n",
      "Requirement already satisfied: jedi>=0.16 in /usr/local/lib/python3.8/dist-packages (from ipython>=4->jupyter-spark) (0.19.2)\n",
      "Requirement already satisfied: stack-data in /usr/local/lib/python3.8/dist-packages (from ipython>=4->jupyter-spark) (0.6.3)\n",
      "Requirement already satisfied: pygments>=2.4.0 in /usr/local/lib/python3.8/dist-packages (from ipython>=4->jupyter-spark) (2.19.2)\n",
      "Requirement already satisfied: pickleshare in /usr/local/lib/python3.8/dist-packages (from ipython>=4->jupyter-spark) (0.7.5)\n",
      "Requirement already satisfied: prompt-toolkit!=3.0.37,<3.1.0,>=3.0.30 in /usr/local/lib/python3.8/dist-packages (from ipython>=4->jupyter-spark) (3.0.51)\n",
      "Requirement already satisfied: decorator in /usr/local/lib/python3.8/dist-packages (from ipython>=4->jupyter-spark) (5.2.1)\n",
      "Requirement already satisfied: tornado>=6.2.0 in /usr/local/lib/python3.8/dist-packages (from notebook>=4.2->jupyter-spark) (6.4.2)\n",
      "Requirement already satisfied: jupyter-server<3,>=2.4.0 in /usr/local/lib/python3.8/dist-packages (from notebook>=4.2->jupyter-spark) (2.14.2)\n",
      "Requirement already satisfied: jupyterlab-server<3,>=2.27.1 in /usr/local/lib/python3.8/dist-packages (from notebook>=4.2->jupyter-spark) (2.27.3)\n",
      "Requirement already satisfied: notebook-shim<0.3,>=0.2 in /usr/local/lib/python3.8/dist-packages (from notebook>=4.2->jupyter-spark) (0.2.4)\n",
      "Collecting jupyterlab_widgets~=3.0.15\n",
      "  Downloading jupyterlab_widgets-3.0.15-py3-none-any.whl (216 kB)\n",
      "\u001b[K     |████████████████████████████████| 216 kB 6.0 MB/s eta 0:00:01\n",
      "\u001b[?25hRequirement already satisfied: comm>=0.1.3 in /usr/local/lib/python3.8/dist-packages (from ipywidgets->jupyter->jupyter-spark) (0.2.2)\n",
      "Requirement already satisfied: jupyter-client>=7.0.0 in /usr/local/lib/python3.8/dist-packages (from jupyter-console->jupyter->jupyter-spark) (8.6.3)\n",
      "Requirement already satisfied: pyzmq>=17 in /usr/local/lib/python3.8/dist-packages (from jupyter-console->jupyter->jupyter-spark) (27.0.0)\n",
      "Requirement already satisfied: jupyter-core!=5.0.*,>=4.12 in /usr/local/lib/python3.8/dist-packages (from jupyter-console->jupyter->jupyter-spark) (5.8.1)\n",
      "Requirement already satisfied: packaging in /usr/local/lib/python3.8/dist-packages (from ipykernel->jupyter->jupyter-spark) (25.0)\n",
      "Requirement already satisfied: debugpy>=1.6.5 in /usr/local/lib/python3.8/dist-packages (from ipykernel->jupyter->jupyter-spark) (1.8.14)\n",
      "Requirement already satisfied: nest-asyncio in /usr/local/lib/python3.8/dist-packages (from ipykernel->jupyter->jupyter-spark) (1.6.0)\n",
      "Requirement already satisfied: psutil in /usr/local/lib/python3.8/dist-packages (from ipykernel->jupyter->jupyter-spark) (7.0.0)\n",
      "Requirement already satisfied: importlib-metadata>=3.6; python_version < \"3.10\" in /usr/local/lib/python3.8/dist-packages (from nbconvert->jupyter->jupyter-spark) (8.5.0)\n",
      "Requirement already satisfied: nbclient>=0.5.0 in /usr/local/lib/python3.8/dist-packages (from nbconvert->jupyter->jupyter-spark) (0.10.1)\n",
      "Requirement already satisfied: nbformat>=5.7 in /usr/local/lib/python3.8/dist-packages (from nbconvert->jupyter->jupyter-spark) (5.10.4)\n",
      "Requirement already satisfied: bleach[css]!=5.0.0 in /usr/local/lib/python3.8/dist-packages (from nbconvert->jupyter->jupyter-spark) (6.1.0)\n",
      "Requirement already satisfied: pandocfilters>=1.4.1 in /usr/local/lib/python3.8/dist-packages (from nbconvert->jupyter->jupyter-spark) (1.5.1)\n",
      "Requirement already satisfied: markupsafe>=2.0 in /usr/local/lib/python3.8/dist-packages (from nbconvert->jupyter->jupyter-spark) (2.1.5)\n",
      "Requirement already satisfied: mistune<4,>=2.0.3 in /usr/local/lib/python3.8/dist-packages (from nbconvert->jupyter->jupyter-spark) (3.1.3)\n",
      "Requirement already satisfied: jinja2>=3.0 in /usr/local/lib/python3.8/dist-packages (from nbconvert->jupyter->jupyter-spark) (3.1.6)\n",
      "Requirement already satisfied: defusedxml in /usr/local/lib/python3.8/dist-packages (from nbconvert->jupyter->jupyter-spark) (0.7.1)\n",
      "Requirement already satisfied: jupyterlab-pygments in /usr/local/lib/python3.8/dist-packages (from nbconvert->jupyter->jupyter-spark) (0.3.0)\n",
      "Requirement already satisfied: importlib-resources>=1.4; python_version < \"3.9\" in /usr/local/lib/python3.8/dist-packages (from jupyterlab->jupyter->jupyter-spark) (6.4.5)\n",
      "Requirement already satisfied: async-lru>=1.0.0 in /usr/local/lib/python3.8/dist-packages (from jupyterlab->jupyter->jupyter-spark) (2.0.4)\n",
      "Requirement already satisfied: httpx>=0.25.0 in /usr/local/lib/python3.8/dist-packages (from jupyterlab->jupyter->jupyter-spark) (0.28.1)\n",
      "Requirement already satisfied: jupyter-lsp>=2.0.0 in /usr/local/lib/python3.8/dist-packages (from jupyterlab->jupyter->jupyter-spark) (2.2.5)\n",
      "Requirement already satisfied: setuptools>=40.1.0 in /usr/lib/python3/dist-packages (from jupyterlab->jupyter->jupyter-spark) (45.2.0)\n",
      "Requirement already satisfied: tomli>=1.2.2; python_version < \"3.11\" in /usr/local/lib/python3.8/dist-packages (from jupyterlab->jupyter->jupyter-spark) (2.2.1)\n",
      "Requirement already satisfied: ptyprocess>=0.5 in /usr/local/lib/python3.8/dist-packages (from pexpect>4.3; sys_platform != \"win32\"->ipython>=4->jupyter-spark) (0.7.0)\n",
      "Requirement already satisfied: parso<0.9.0,>=0.8.4 in /usr/local/lib/python3.8/dist-packages (from jedi>=0.16->ipython>=4->jupyter-spark) (0.8.4)\n",
      "Requirement already satisfied: pure-eval in /usr/local/lib/python3.8/dist-packages (from stack-data->ipython>=4->jupyter-spark) (0.2.3)\n",
      "Requirement already satisfied: asttokens>=2.1.0 in /usr/local/lib/python3.8/dist-packages (from stack-data->ipython>=4->jupyter-spark) (3.0.0)\n",
      "Requirement already satisfied: executing>=1.2.0 in /usr/local/lib/python3.8/dist-packages (from stack-data->ipython>=4->jupyter-spark) (2.2.0)\n",
      "Requirement already satisfied: wcwidth in /usr/local/lib/python3.8/dist-packages (from prompt-toolkit!=3.0.37,<3.1.0,>=3.0.30->ipython>=4->jupyter-spark) (0.2.13)\n",
      "Requirement already satisfied: send2trash>=1.8.2 in /usr/local/lib/python3.8/dist-packages (from jupyter-server<3,>=2.4.0->notebook>=4.2->jupyter-spark) (1.8.3)\n",
      "Requirement already satisfied: jupyter-server-terminals>=0.4.4 in /usr/local/lib/python3.8/dist-packages (from jupyter-server<3,>=2.4.0->notebook>=4.2->jupyter-spark) (0.5.3)\n",
      "Requirement already satisfied: prometheus-client>=0.9 in /usr/local/lib/python3.8/dist-packages (from jupyter-server<3,>=2.4.0->notebook>=4.2->jupyter-spark) (0.21.1)\n",
      "Requirement already satisfied: anyio>=3.1.0 in /usr/local/lib/python3.8/dist-packages (from jupyter-server<3,>=2.4.0->notebook>=4.2->jupyter-spark) (4.5.2)\n",
      "Requirement already satisfied: terminado>=0.8.3 in /usr/local/lib/python3.8/dist-packages (from jupyter-server<3,>=2.4.0->notebook>=4.2->jupyter-spark) (0.18.1)\n",
      "Requirement already satisfied: argon2-cffi>=21.1 in /usr/local/lib/python3.8/dist-packages (from jupyter-server<3,>=2.4.0->notebook>=4.2->jupyter-spark) (25.1.0)\n",
      "Requirement already satisfied: jupyter-events>=0.9.0 in /usr/local/lib/python3.8/dist-packages (from jupyter-server<3,>=2.4.0->notebook>=4.2->jupyter-spark) (0.10.0)\n",
      "Requirement already satisfied: overrides>=5.0 in /usr/local/lib/python3.8/dist-packages (from jupyter-server<3,>=2.4.0->notebook>=4.2->jupyter-spark) (7.7.0)\n",
      "Requirement already satisfied: websocket-client>=1.7 in /usr/local/lib/python3.8/dist-packages (from jupyter-server<3,>=2.4.0->notebook>=4.2->jupyter-spark) (1.8.0)\n",
      "Requirement already satisfied: requests>=2.31 in /usr/local/lib/python3.8/dist-packages (from jupyterlab-server<3,>=2.27.1->notebook>=4.2->jupyter-spark) (2.32.4)\n",
      "Requirement already satisfied: json5>=0.9.0 in /usr/local/lib/python3.8/dist-packages (from jupyterlab-server<3,>=2.27.1->notebook>=4.2->jupyter-spark) (0.12.0)\n",
      "Requirement already satisfied: babel>=2.10 in /usr/local/lib/python3.8/dist-packages (from jupyterlab-server<3,>=2.27.1->notebook>=4.2->jupyter-spark) (2.17.0)\n",
      "Requirement already satisfied: jsonschema>=4.18.0 in /usr/local/lib/python3.8/dist-packages (from jupyterlab-server<3,>=2.27.1->notebook>=4.2->jupyter-spark) (4.23.0)\n",
      "Requirement already satisfied: python-dateutil>=2.8.2 in /usr/local/lib/python3.8/dist-packages (from jupyter-client>=7.0.0->jupyter-console->jupyter->jupyter-spark) (2.9.0.post0)\n",
      "Requirement already satisfied: platformdirs>=2.5 in /usr/local/lib/python3.8/dist-packages (from jupyter-core!=5.0.*,>=4.12->jupyter-console->jupyter->jupyter-spark) (4.3.6)\n",
      "Requirement already satisfied: zipp>=3.20 in /usr/local/lib/python3.8/dist-packages (from importlib-metadata>=3.6; python_version < \"3.10\"->nbconvert->jupyter->jupyter-spark) (3.20.2)\n",
      "Requirement already satisfied: fastjsonschema>=2.15 in /usr/local/lib/python3.8/dist-packages (from nbformat>=5.7->nbconvert->jupyter->jupyter-spark) (2.21.1)\n",
      "Requirement already satisfied: webencodings in /usr/local/lib/python3.8/dist-packages (from bleach[css]!=5.0.0->nbconvert->jupyter->jupyter-spark) (0.5.1)\n",
      "Requirement already satisfied: six>=1.9.0 in /usr/local/lib/python3.8/dist-packages (from bleach[css]!=5.0.0->nbconvert->jupyter->jupyter-spark) (1.17.0)\n",
      "Requirement already satisfied: tinycss2<1.3,>=1.1.0; extra == \"css\" in /usr/local/lib/python3.8/dist-packages (from bleach[css]!=5.0.0->nbconvert->jupyter->jupyter-spark) (1.2.1)\n",
      "Requirement already satisfied: httpcore==1.* in /usr/local/lib/python3.8/dist-packages (from httpx>=0.25.0->jupyterlab->jupyter->jupyter-spark) (1.0.9)\n",
      "Requirement already satisfied: certifi in /usr/local/lib/python3.8/dist-packages (from httpx>=0.25.0->jupyterlab->jupyter->jupyter-spark) (2025.6.15)\n",
      "Requirement already satisfied: idna in /usr/local/lib/python3.8/dist-packages (from httpx>=0.25.0->jupyterlab->jupyter->jupyter-spark) (3.10)\n",
      "Requirement already satisfied: exceptiongroup>=1.0.2; python_version < \"3.11\" in /usr/local/lib/python3.8/dist-packages (from anyio>=3.1.0->jupyter-server<3,>=2.4.0->notebook>=4.2->jupyter-spark) (1.3.0)\n",
      "Requirement already satisfied: sniffio>=1.1 in /usr/local/lib/python3.8/dist-packages (from anyio>=3.1.0->jupyter-server<3,>=2.4.0->notebook>=4.2->jupyter-spark) (1.3.1)\n",
      "Requirement already satisfied: argon2-cffi-bindings in /usr/local/lib/python3.8/dist-packages (from argon2-cffi>=21.1->jupyter-server<3,>=2.4.0->notebook>=4.2->jupyter-spark) (21.2.0)\n",
      "Requirement already satisfied: python-json-logger>=2.0.4 in /usr/local/lib/python3.8/dist-packages (from jupyter-events>=0.9.0->jupyter-server<3,>=2.4.0->notebook>=4.2->jupyter-spark) (3.3.0)\n",
      "Requirement already satisfied: rfc3339-validator in /usr/local/lib/python3.8/dist-packages (from jupyter-events>=0.9.0->jupyter-server<3,>=2.4.0->notebook>=4.2->jupyter-spark) (0.1.4)\n",
      "Requirement already satisfied: rfc3986-validator>=0.1.1 in /usr/local/lib/python3.8/dist-packages (from jupyter-events>=0.9.0->jupyter-server<3,>=2.4.0->notebook>=4.2->jupyter-spark) (0.1.1)\n",
      "Requirement already satisfied: referencing in /usr/local/lib/python3.8/dist-packages (from jupyter-events>=0.9.0->jupyter-server<3,>=2.4.0->notebook>=4.2->jupyter-spark) (0.35.1)\n",
      "Requirement already satisfied: pyyaml>=5.3 in /usr/local/lib/python3.8/dist-packages (from jupyter-events>=0.9.0->jupyter-server<3,>=2.4.0->notebook>=4.2->jupyter-spark) (6.0.2)\n",
      "Requirement already satisfied: charset_normalizer<4,>=2 in /usr/local/lib/python3.8/dist-packages (from requests>=2.31->jupyterlab-server<3,>=2.27.1->notebook>=4.2->jupyter-spark) (3.4.2)\n",
      "Requirement already satisfied: urllib3<3,>=1.21.1 in /usr/local/lib/python3.8/dist-packages (from requests>=2.31->jupyterlab-server<3,>=2.27.1->notebook>=4.2->jupyter-spark) (2.2.3)\n",
      "Requirement already satisfied: pytz>=2015.7; python_version < \"3.9\" in /usr/local/lib/python3.8/dist-packages (from babel>=2.10->jupyterlab-server<3,>=2.27.1->notebook>=4.2->jupyter-spark) (2025.2)\n",
      "Requirement already satisfied: rpds-py>=0.7.1 in /usr/local/lib/python3.8/dist-packages (from jsonschema>=4.18.0->jupyterlab-server<3,>=2.27.1->notebook>=4.2->jupyter-spark) (0.20.1)\n",
      "Requirement already satisfied: attrs>=22.2.0 in /usr/local/lib/python3.8/dist-packages (from jsonschema>=4.18.0->jupyterlab-server<3,>=2.27.1->notebook>=4.2->jupyter-spark) (25.3.0)\n",
      "Requirement already satisfied: pkgutil-resolve-name>=1.3.10; python_version < \"3.9\" in /usr/local/lib/python3.8/dist-packages (from jsonschema>=4.18.0->jupyterlab-server<3,>=2.27.1->notebook>=4.2->jupyter-spark) (1.3.10)\n",
      "Requirement already satisfied: jsonschema-specifications>=2023.03.6 in /usr/local/lib/python3.8/dist-packages (from jsonschema>=4.18.0->jupyterlab-server<3,>=2.27.1->notebook>=4.2->jupyter-spark) (2023.12.1)\n",
      "Requirement already satisfied: h11>=0.16 in /usr/local/lib/python3.8/dist-packages (from httpcore==1.*->httpx>=0.25.0->jupyterlab->jupyter->jupyter-spark) (0.16.0)\n",
      "Requirement already satisfied: cffi>=1.0.1 in /usr/local/lib/python3.8/dist-packages (from argon2-cffi-bindings->argon2-cffi>=21.1->jupyter-server<3,>=2.4.0->notebook>=4.2->jupyter-spark) (1.17.1)\n",
      "Requirement already satisfied: pycparser in /usr/local/lib/python3.8/dist-packages (from cffi>=1.0.1->argon2-cffi-bindings->argon2-cffi>=21.1->jupyter-server<3,>=2.4.0->notebook>=4.2->jupyter-spark) (2.22)\n",
      "\u001b[31mERROR: notebook 7.4.4 has requirement jupyterlab<4.5,>=4.4.4, but you'll have jupyterlab 4.2.5 which is incompatible.\u001b[0m\n",
      "Installing collected packages: jupyterlab-widgets, widgetsnbextension, ipywidgets, jupyter-console, notebook, jupyter, jupyter-spark\n",
      "Successfully installed ipywidgets-8.1.7 jupyter-1.1.1 jupyter-console-6.6.3 jupyter-spark-0.4.0 jupyterlab-widgets-3.0.15 notebook-7.4.4 widgetsnbextension-4.0.14\n"
     ]
    }
   ],
   "source": [
    "!pip install jupyter-spark"
   ]
  },
  {
   "cell_type": "code",
   "execution_count": 43,
   "id": "a9dbdeac-0b9d-4f7b-88df-3acdaac1a336",
   "metadata": {},
   "outputs": [
    {
     "data": {
      "text/plain": [
       "'s3://warehouse/'"
      ]
     },
     "execution_count": 43,
     "metadata": {},
     "output_type": "execute_result"
    }
   ],
   "source": [
    "spark.conf.get(\"spark.sql.catalog.mycatalog.warehouse\")\n",
    "spark.conf.get(\"spark.sql.catalog.iceberg.warehouse\")\n"
   ]
  },
  {
   "cell_type": "code",
   "execution_count": 42,
   "id": "61bb0d9a-1a48-4d62-92c7-3b170d57870e",
   "metadata": {},
   "outputs": [
    {
     "name": "stdout",
     "output_type": "stream",
     "text": [
      "+---------+---------------+-----------+\n",
      "|namespace|tableName      |isTemporary|\n",
      "+---------+---------------+-----------+\n",
      "|bootcamp |events         |false      |\n",
      "|bootcamp |events_sorted  |false      |\n",
      "|bootcamp |events_unsorted|false      |\n",
      "+---------+---------------+-----------+\n",
      "\n"
     ]
    },
    {
     "data": {
      "text/plain": [
       "DataFrame[namespace: string, tableName: string, isTemporary: boolean]"
      ]
     },
     "execution_count": 42,
     "metadata": {},
     "output_type": "execute_result"
    }
   ],
   "source": [
    "%%sparksql\n",
    "SHOW TABLES IN mycatalog.bootcamp"
   ]
  },
  {
   "cell_type": "code",
   "execution_count": 22,
   "id": "81cca085-dba2-42eb-a13b-fa64b6e86583",
   "metadata": {
    "scrolled": true
   },
   "outputs": [
    {
     "name": "stdout",
     "output_type": "stream",
     "text": [
      "+----------+-----------+--------+--------------------+----------+--------------------+-------------------+--------------+---------+-----------+\n",
      "| device_id|    user_id|referrer|                host|       url|          event_time|         event_date|browser_family|os_family|device_type|\n",
      "+----------+-----------+--------+--------------------+----------+--------------------+-------------------+--------------+---------+-----------+\n",
      "| 532630305| 1037710827|    NULL| www.zachwilson.tech|         /|2021-03-08 17:27:...|2021-03-08 00:00:00|         Other|    Other|      Other|\n",
      "| 532630305|  925588856|    NULL|    www.eczachly.com|         /|2021-05-10 11:26:...|2021-05-10 00:00:00|         Other|    Other|      Other|\n",
      "| 532630305|-1180485268|    NULL|admin.zachwilson....|         /|2021-02-17 16:19:...|2021-02-17 00:00:00|         Other|    Other|      Other|\n",
      "| 532630305|-1044833855|    NULL| www.zachwilson.tech|         /|2021-09-24 15:53:...|2021-09-24 00:00:00|         Other|    Other|      Other|\n",
      "| 532630305|  747494706|    NULL| www.zachwilson.tech|         /|2021-09-26 16:03:...|2021-09-26 00:00:00|         Other|    Other|      Other|\n",
      "| 532630305|  747494706|    NULL|admin.zachwilson....|         /|2021-02-21 16:08:...|2021-02-21 00:00:00|         Other|    Other|      Other|\n",
      "| 532630305| -824540328|    NULL|admin.zachwilson....|         /|2021-09-28 17:23:...|2021-09-28 00:00:00|         Other|    Other|      Other|\n",
      "| 532630305| -824540328|    NULL|    www.eczachly.com|         /|2021-09-29 01:22:...|2021-09-29 00:00:00|         Other|    Other|      Other|\n",
      "| 532630305| 1833036683|    NULL|admin.zachwilson....|         /|2021-01-24 03:15:...|2021-01-24 00:00:00|         Other|    Other|      Other|\n",
      "| 532630305|-2134824313|    NULL|    www.eczachly.com|         /|2021-01-25 00:03:...|2021-01-25 00:00:00|         Other|    Other|      Other|\n",
      "|-906264142|-1809929467|    NULL|admin.zachwilson....|/.git/HEAD|2021-02-22 01:36:...|2021-02-22 00:00:00|          curl|    Other|      Other|\n",
      "|-906264142| 2002285749|    NULL|    www.eczachly.com|         /|2021-02-22 02:25:...|2021-02-22 00:00:00|          curl|    Other|      Other|\n",
      "| 532630305|-1562965412|    NULL| www.zachwilson.tech|         /|2021-01-30 20:46:...|2021-01-30 00:00:00|         Other|    Other|      Other|\n",
      "| 532630305|-1099860451|    NULL|    www.eczachly.com|         /|2021-02-04 23:49:...|2021-02-04 00:00:00|         Other|    Other|      Other|\n",
      "|-906264142| 1246896869|    NULL| www.zachwilson.tech|         /|2021-02-22 02:50:...|2021-02-22 00:00:00|          curl|    Other|      Other|\n",
      "|-906264142| -629331502|    NULL|admin.zachwilson....|/.git/HEAD|2021-02-22 23:51:...|2021-02-22 00:00:00|          curl|    Other|      Other|\n",
      "|-906264142|-1913422462|    NULL|    www.eczachly.com|         /|2021-02-23 00:17:...|2021-02-23 00:00:00|          curl|    Other|      Other|\n",
      "| 532630305|   50429624|    NULL|    www.eczachly.com|         /|2022-12-28 01:38:...|2022-12-28 00:00:00|         Other|    Other|      Other|\n",
      "| 532630305|  222389292|    NULL| www.zachwilson.tech|         /|2022-12-28 05:23:...|2022-12-28 00:00:00|         Other|    Other|      Other|\n",
      "| 532630305| -779924777|    NULL| www.zachwilson.tech|         /|2022-12-28 16:45:...|2022-12-28 00:00:00|         Other|    Other|      Other|\n",
      "+----------+-----------+--------+--------------------+----------+--------------------+-------------------+--------------+---------+-----------+\n",
      "only showing top 20 rows\n",
      "\n"
     ]
    }
   ],
   "source": [
    "from pyspark.sql import SparkSession\n",
    "from pyspark.sql.functions import expr, col\n",
    "# spark = SparkSession.builder.appName(\"Jupyter\").getOrCreate()\n",
    "\n",
    "# spark\n",
    "\n",
    "events = spark.read.option(\"header\", \"true\").csv(\"/home/iceberg/data/events.csv\").withColumn(\"event_date\", expr(\"DATE_TRUNC('day', event_time)\"))\n",
    "devices = spark.read.option(\"header\",\"true\").csv(\"/home/iceberg/data/devices.csv\")\n",
    "\n",
    "df = events.join(devices,on=\"device_id\",how=\"left\")\n",
    "df = df.withColumnsRenamed({'browser_type': 'browser_family', 'os_type': 'os_family'})\n",
    "\n",
    "df.show()"
   ]
  },
  {
   "cell_type": "code",
   "execution_count": 23,
   "id": "dce068df-3e21-429a-8716-abdd13e9406c",
   "metadata": {},
   "outputs": [
    {
     "name": "stderr",
     "output_type": "stream",
     "text": [
      "                                                                                \r"
     ]
    },
    {
     "name": "stdout",
     "output_type": "stream",
     "text": [
      "+-----------+-----------+--------------------+--------------------+--------------------+--------------------+-------------------+--------------+---------+------------------+\n",
      "|  device_id|    user_id|            referrer|                host|                 url|          event_time|         event_date|browser_family|os_family|       device_type|\n",
      "+-----------+-----------+--------------------+--------------------+--------------------+--------------------+-------------------+--------------+---------+------------------+\n",
      "|  532630305| 1129583063|                NULL|admin.zachwilson....|                   /|2021-01-07 09:21:...|2021-01-07 00:00:00|         Other|    Other|             Other|\n",
      "| 1088283544| -648945006|                NULL|    www.eczachly.com|                   /|2021-01-07 02:58:...|2021-01-07 00:00:00|      PetalBot|  Android|Generic Smartphone|\n",
      "| -158310583|-1871780024|                NULL|    www.eczachly.com|                   /|2021-01-07 04:17:...|2021-01-07 00:00:00|      PetalBot|    Other|            Spider|\n",
      "| 1088283544|  203689086|                NULL|    www.eczachly.com|/blog/what-exactl...|2021-01-07 10:03:...|2021-01-07 00:00:00|      PetalBot|  Android|Generic Smartphone|\n",
      "|  532630305|-1180485268|                NULL|    www.eczachly.com|                   /|2021-01-07 18:45:...|2021-01-07 00:00:00|         Other|    Other|             Other|\n",
      "|  532630305| 1129583063|                NULL|    www.eczachly.com|                   /|2021-01-07 21:57:...|2021-01-07 00:00:00|         Other|    Other|             Other|\n",
      "| -158310583|-1381834161|                NULL|    www.eczachly.com|                   /|2021-01-07 23:07:...|2021-01-07 00:00:00|      PetalBot|    Other|            Spider|\n",
      "|  532630305|-1373330946|                NULL| www.zachwilson.tech|  /api/v1/spark-post|2021-01-07 18:53:...|2021-01-07 00:00:00|         Other|    Other|             Other|\n",
      "|  532630305|-1180485268|                NULL| www.zachwilson.tech|                   /|2021-01-07 19:20:...|2021-01-07 00:00:00|         Other|    Other|             Other|\n",
      "| 1957784035|-1617088793|https://www.zachw...| www.zachwilson.tech|            /contact|2021-01-07 00:19:...|2021-01-07 00:00:00|        Chrome|  Windows|             Other|\n",
      "| 1957784035|-1617088793|https://www.zachw...| www.zachwilson.tech|     /api/v1/contact|2021-01-07 00:19:...|2021-01-07 00:00:00|        Chrome|  Windows|             Other|\n",
      "| 1957784035|-1617088793|https://www.zachw...| www.zachwilson.tech|            /contact|2021-01-07 00:19:...|2021-01-07 00:00:00|        Chrome|  Windows|             Other|\n",
      "| 1141939293| -267976675|https://www.zachw...| www.zachwilson.tech|            /contact|2021-01-07 01:57:...|2021-01-07 00:00:00|        Chrome|  Windows|             Other|\n",
      "| 1141939293| -267976675|https://www.zachw...| www.zachwilson.tech|     /api/v1/contact|2021-01-07 01:57:...|2021-01-07 00:00:00|        Chrome|  Windows|             Other|\n",
      "| 1141939293| -267976675|https://www.zachw...| www.zachwilson.tech|            /contact|2021-01-07 01:57:...|2021-01-07 00:00:00|        Chrome|  Windows|             Other|\n",
      "| 1800580819|  604069040|                NULL| www.zachwilson.tech|                   /|2021-01-07 02:24:...|2021-01-07 00:00:00| Chrome Mobile|  Android|Generic Smartphone|\n",
      "| 2066336516|-2135898320|http://www.laurel...| www.zachwilson.tech|                   /|2021-01-07 04:57:...|2021-01-07 00:00:00|       Firefox|  Windows|             Other|\n",
      "|-1217993711|  -43429336|                NULL| www.zachwilson.tech|            /contact|2021-01-07 04:57:...|2021-01-07 00:00:00|     AhrefsBot|    Other|            Spider|\n",
      "|-1307168836| 1198758947|                NULL| www.zachwilson.tech|               /blog|2021-01-07 09:57:...|2021-01-07 00:00:00|        Chrome|  Windows|             Other|\n",
      "| 1141939293|-1894709267|https://www.zachw...| www.zachwilson.tech|                   /|2021-01-07 10:12:...|2021-01-07 00:00:00|        Chrome|  Windows|             Other|\n",
      "+-----------+-----------+--------------------+--------------------+--------------------+--------------------+-------------------+--------------+---------+------------------+\n",
      "only showing top 20 rows\n",
      "\n"
     ]
    },
    {
     "name": "stderr",
     "output_type": "stream",
     "text": [
      "[Stage 36:===================================================>     (9 + 1) / 10]\r"
     ]
    },
    {
     "name": "stdout",
     "output_type": "stream",
     "text": [
      "+-----------+-----------+--------------------+--------------------+--------------------+--------------------+-------------------+--------------+---------+------------------+\n",
      "|  device_id|    user_id|            referrer|                host|                 url|          event_time|         event_date|browser_family|os_family|       device_type|\n",
      "+-----------+-----------+--------------------+--------------------+--------------------+--------------------+-------------------+--------------+---------+------------------+\n",
      "| -643696601| 1272828233|                NULL|admin.zachwilson....|                   /|2021-01-02 13:53:...|2021-01-02 00:00:00|        Chrome|  Windows|             Other|\n",
      "|  532630305|  747494706|                NULL|admin.zachwilson....|                   /|2021-01-02 19:36:...|2021-01-02 00:00:00|         Other|    Other|             Other|\n",
      "|  898871897| 2110046626|                NULL|admin.zachwilson....|       /wp-login.php|2021-01-02 19:57:...|2021-01-02 00:00:00|        Chrome|    Linux|             Other|\n",
      "| -643696601| 1272828233|                NULL|admin.zachwilson....|                   /|2021-01-02 21:05:...|2021-01-02 00:00:00|        Chrome|  Windows|             Other|\n",
      "| -643696601| 1272828233|                NULL|admin.zachwilson....|                   /|2021-01-02 21:37:...|2021-01-02 00:00:00|        Chrome|  Windows|             Other|\n",
      "|-2012543895| 1399665425|                NULL|    www.eczachly.com|                   /|2021-01-02 00:20:...|2021-01-02 00:00:00|     Googlebot|    Other|            Spider|\n",
      "| -290659081|  125243313|                NULL|    www.eczachly.com|                   /|2021-01-02 02:06:...|2021-01-02 00:00:00|       bingbot|    Other|            Spider|\n",
      "| -290659081|  632739597|                NULL|    www.eczachly.com|/blog/what-exactl...|2021-01-02 02:58:...|2021-01-02 00:00:00|       bingbot|    Other|            Spider|\n",
      "| -290659081|-1780827820|                NULL|    www.eczachly.com|                   /|2021-01-02 04:45:...|2021-01-02 00:00:00|       bingbot|    Other|            Spider|\n",
      "| -290659081|  632739597|                NULL|    www.eczachly.com|                   /|2021-01-02 05:14:...|2021-01-02 00:00:00|       bingbot|    Other|            Spider|\n",
      "| -158310583| 1047962242|                NULL|    www.eczachly.com|                   /|2021-01-02 11:40:...|2021-01-02 00:00:00|      PetalBot|    Other|            Spider|\n",
      "| -290659081|  273700037|                NULL|    www.eczachly.com|                   /|2021-01-02 07:51:...|2021-01-02 00:00:00|       bingbot|    Other|            Spider|\n",
      "| -643696601| 1272828233|                NULL|    www.eczachly.com|                   /|2021-01-02 08:14:...|2021-01-02 00:00:00|        Chrome|  Windows|             Other|\n",
      "| 1088283544|  210988258|                NULL|    www.eczachly.com|            /contact|2021-01-02 11:11:...|2021-01-02 00:00:00|      PetalBot|  Android|Generic Smartphone|\n",
      "| -290659081|  273700037|                NULL|    www.eczachly.com|                   /|2021-01-02 11:23:...|2021-01-02 00:00:00|       bingbot|    Other|            Spider|\n",
      "| -290659081|  632739597|                NULL|    www.eczachly.com|        /sitemap.xml|2021-01-02 14:10:...|2021-01-02 00:00:00|       bingbot|    Other|            Spider|\n",
      "| -290659081|  659201289|                NULL|    www.eczachly.com|/blog/life-of-a-s...|2021-01-02 15:53:...|2021-01-02 00:00:00|       bingbot|    Other|            Spider|\n",
      "| -784483831| 1072106763|https://www.zachw...| www.zachwilson.tech|            /contact|2021-01-02 09:37:...|2021-01-02 00:00:00|        Chrome|  Windows|             Other|\n",
      "| -223216734| 1744817842|                NULL| www.zachwilson.tech|/graph/stock-tick...|2021-01-02 00:23:...|2021-01-02 00:00:00|   FacebookBot|    Other|            Spider|\n",
      "| 1957784035| 1445055201|https://www.zachw...| www.zachwilson.tech|            /contact|2021-01-02 10:17:...|2021-01-02 00:00:00|        Chrome|  Windows|             Other|\n",
      "+-----------+-----------+--------------------+--------------------+--------------------+--------------------+-------------------+--------------+---------+------------------+\n",
      "only showing top 20 rows\n",
      "\n"
     ]
    },
    {
     "name": "stderr",
     "output_type": "stream",
     "text": [
      "                                                                                \r"
     ]
    }
   ],
   "source": [
    "sorted = df.repartition(10, col(\"event_date\"))\\\n",
    "    .sortWithinPartitions(col(\"event_date\"), col(\"host\"))\\\n",
    "    .withColumn(\"event_time\", col(\"event_time\").cast(\"timestamp\")) \n",
    "\n",
    "sortedTwo = df.repartition(10, col(\"event_date\"))\\\n",
    "    .sort(col(\"event_date\"), col(\"host\"))\\\n",
    "    .withColumn(\"event_time\", col(\"event_time\").cast(\"timestamp\")) \n",
    "\n",
    "sorted.show()\n",
    "sortedTwo.show()\n"
   ]
  },
  {
   "cell_type": "code",
   "execution_count": null,
   "id": "e75099ce-0e80-4903-8d3e-e4842a9a99f7",
   "metadata": {},
   "outputs": [],
   "source": [
    "# .sortWithinPartitions() sorts within partitions, whereas .sort() is a global sort, which is very slow\n",
    "\n",
    "# Note - exchange is synonymous with Shuffle"
   ]
  },
  {
   "cell_type": "code",
   "execution_count": 24,
   "id": "5cc0bb63-2ef0-4a53-af25-881fbd785d55",
   "metadata": {},
   "outputs": [
    {
     "name": "stdout",
     "output_type": "stream",
     "text": [
      "== Physical Plan ==\n",
      "AdaptiveSparkPlan isFinalPlan=false\n",
      "+- Project [device_id#658, user_id#657, referrer#659, host#660, url#661, cast(event_time#662 as timestamp) AS event_time#901, event_date#669, browser_family#714, os_family#715, device_type#698]\n",
      "   +- Sort [event_date#669 ASC NULLS FIRST, host#660 ASC NULLS FIRST], false, 0\n",
      "      +- Exchange hashpartitioning(event_date#669, 10), REPARTITION_BY_NUM, [plan_id=1254]\n",
      "         +- Project [device_id#658, user_id#657, referrer#659, host#660, url#661, event_time#662, event_date#669, browser_type#696 AS browser_family#714, os_type#697 AS os_family#715, device_type#698]\n",
      "            +- BroadcastHashJoin [device_id#658], [device_id#695], LeftOuter, BuildRight, false\n",
      "               :- Project [user_id#657, device_id#658, referrer#659, host#660, url#661, event_time#662, date_trunc(day, cast(event_time#662 as timestamp), Some(Etc/UTC)) AS event_date#669]\n",
      "               :  +- FileScan csv [user_id#657,device_id#658,referrer#659,host#660,url#661,event_time#662] Batched: false, DataFilters: [], Format: CSV, Location: InMemoryFileIndex(1 paths)[file:/home/iceberg/data/events.csv], PartitionFilters: [], PushedFilters: [], ReadSchema: struct<user_id:string,device_id:string,referrer:string,host:string,url:string,event_time:string>\n",
      "               +- BroadcastExchange HashedRelationBroadcastMode(List(input[0, string, false]),false), [plan_id=1251]\n",
      "                  +- Filter isnotnull(device_id#695)\n",
      "                     +- FileScan csv [device_id#695,browser_type#696,os_type#697,device_type#698] Batched: false, DataFilters: [isnotnull(device_id#695)], Format: CSV, Location: InMemoryFileIndex(1 paths)[file:/home/iceberg/data/devices.csv], PartitionFilters: [], PushedFilters: [IsNotNull(device_id)], ReadSchema: struct<device_id:string,browser_type:string,os_type:string,device_type:string>\n",
      "\n",
      "\n",
      "== Physical Plan ==\n",
      "AdaptiveSparkPlan isFinalPlan=false\n",
      "+- Project [device_id#658, user_id#657, referrer#659, host#660, url#661, cast(event_time#662 as timestamp) AS event_time#912, event_date#669, browser_family#714, os_family#715, device_type#698]\n",
      "   +- Sort [event_date#669 ASC NULLS FIRST, host#660 ASC NULLS FIRST], true, 0\n",
      "      +- Exchange rangepartitioning(event_date#669 ASC NULLS FIRST, host#660 ASC NULLS FIRST, 200), ENSURE_REQUIREMENTS, [plan_id=1301]\n",
      "         +- Exchange hashpartitioning(event_date#669, 10), REPARTITION_BY_NUM, [plan_id=1299]\n",
      "            +- Project [device_id#658, user_id#657, referrer#659, host#660, url#661, event_time#662, event_date#669, browser_type#696 AS browser_family#714, os_type#697 AS os_family#715, device_type#698]\n",
      "               +- BroadcastHashJoin [device_id#658], [device_id#695], LeftOuter, BuildRight, false\n",
      "                  :- Project [user_id#657, device_id#658, referrer#659, host#660, url#661, event_time#662, date_trunc(day, cast(event_time#662 as timestamp), Some(Etc/UTC)) AS event_date#669]\n",
      "                  :  +- FileScan csv [user_id#657,device_id#658,referrer#659,host#660,url#661,event_time#662] Batched: false, DataFilters: [], Format: CSV, Location: InMemoryFileIndex(1 paths)[file:/home/iceberg/data/events.csv], PartitionFilters: [], PushedFilters: [], ReadSchema: struct<user_id:string,device_id:string,referrer:string,host:string,url:string,event_time:string>\n",
      "                  +- BroadcastExchange HashedRelationBroadcastMode(List(input[0, string, false]),false), [plan_id=1296]\n",
      "                     +- Filter isnotnull(device_id#695)\n",
      "                        +- FileScan csv [device_id#695,browser_type#696,os_type#697,device_type#698] Batched: false, DataFilters: [isnotnull(device_id#695)], Format: CSV, Location: InMemoryFileIndex(1 paths)[file:/home/iceberg/data/devices.csv], PartitionFilters: [], PushedFilters: [IsNotNull(device_id)], ReadSchema: struct<device_id:string,browser_type:string,os_type:string,device_type:string>\n",
      "\n",
      "\n"
     ]
    }
   ],
   "source": [
    "sorted = df.repartition(10, col(\"event_date\"))\\\n",
    "    .sortWithinPartitions(col(\"event_date\"), col(\"host\"))\\\n",
    "    .withColumn(\"event_time\", col(\"event_time\").cast(\"timestamp\")) \n",
    "\n",
    "sortedTwo = df.repartition(10, col(\"event_date\"))\\\n",
    "    .sort(col(\"event_date\"), col(\"host\"))\\\n",
    "    .withColumn(\"event_time\", col(\"event_time\").cast(\"timestamp\")) \n",
    "\n",
    "sorted.explain()\n",
    "sortedTwo.explain()"
   ]
  },
  {
   "cell_type": "code",
   "execution_count": 25,
   "id": "d800dca7-2737-4192-b5c0-c1806c105e15",
   "metadata": {},
   "outputs": [
    {
     "name": "stdout",
     "output_type": "stream",
     "text": [
      "++\n",
      "||\n",
      "++\n",
      "++\n",
      "\n"
     ]
    },
    {
     "data": {
      "text/plain": [
       "DataFrame[]"
      ]
     },
     "execution_count": 25,
     "metadata": {},
     "output_type": "execute_result"
    }
   ],
   "source": [
    "%%sparksql\n",
    "CREATE DATABASE IF NOT EXISTS bootcamp10"
   ]
  },
  {
   "cell_type": "code",
   "execution_count": 26,
   "id": "e83cd813-d5c0-4d67-8285-849b882b8bfa",
   "metadata": {},
   "outputs": [
    {
     "name": "stdout",
     "output_type": "stream",
     "text": [
      "++\n",
      "||\n",
      "++\n",
      "++\n",
      "\n"
     ]
    },
    {
     "data": {
      "text/plain": [
       "DataFrame[]"
      ]
     },
     "execution_count": 26,
     "metadata": {},
     "output_type": "execute_result"
    }
   ],
   "source": [
    "%%sparksql\n",
    "DROP TABLE IF EXISTS bootcamp.events\n"
   ]
  },
  {
   "cell_type": "code",
   "execution_count": 27,
   "id": "9f06d472-815f-4781-a121-07ccb5a192bb",
   "metadata": {},
   "outputs": [
    {
     "name": "stdout",
     "output_type": "stream",
     "text": [
      "++\n",
      "||\n",
      "++\n",
      "++\n",
      "\n"
     ]
    },
    {
     "data": {
      "text/plain": [
       "DataFrame[]"
      ]
     },
     "execution_count": 27,
     "metadata": {},
     "output_type": "execute_result"
    }
   ],
   "source": [
    "%%sparksql\n",
    "CREATE NAMESPACE IF NOT EXISTS mycatalog.bootcamp\n"
   ]
  },
  {
   "cell_type": "code",
   "execution_count": 28,
   "id": "b403139c-f342-426a-a6de-81cd86d1cd73",
   "metadata": {},
   "outputs": [
    {
     "name": "stdout",
     "output_type": "stream",
     "text": [
      "++\n",
      "||\n",
      "++\n",
      "++\n",
      "\n"
     ]
    },
    {
     "data": {
      "text/plain": [
       "DataFrame[]"
      ]
     },
     "execution_count": 28,
     "metadata": {},
     "output_type": "execute_result"
    }
   ],
   "source": [
    "%%sparksql\n",
    "DROP TABLE IF EXISTS bootcamp.events_sorted"
   ]
  },
  {
   "cell_type": "code",
   "execution_count": 29,
   "id": "d1b197a9-1b63-4130-acbe-01418eede0e5",
   "metadata": {
    "scrolled": true
   },
   "outputs": [
    {
     "name": "stdout",
     "output_type": "stream",
     "text": [
      "++\n",
      "||\n",
      "++\n",
      "++\n",
      "\n"
     ]
    },
    {
     "data": {
      "text/plain": [
       "DataFrame[]"
      ]
     },
     "execution_count": 29,
     "metadata": {},
     "output_type": "execute_result"
    }
   ],
   "source": [
    "%%sparksql\n",
    "CREATE TABLE IF NOT EXISTS mycatalog.bootcamp.events (\n",
    "    url STRING,\n",
    "    referrer STRING,\n",
    "    browser_family STRING,\n",
    "    os_family STRING,\n",
    "    device_family STRING,\n",
    "    host STRING,\n",
    "    event_time TIMESTAMP,\n",
    "    event_date DATE\n",
    ")\n",
    "USING iceberg\n",
    "PARTITIONED BY (event_date)\n",
    "\n"
   ]
  },
  {
   "cell_type": "code",
   "execution_count": 31,
   "id": "7db2c686-d61d-4bca-b2bf-0b4943fa4002",
   "metadata": {},
   "outputs": [
    {
     "name": "stdout",
     "output_type": "stream",
     "text": [
      "+---------+---------------+-----------+\n",
      "|namespace|tableName      |isTemporary|\n",
      "+---------+---------------+-----------+\n",
      "|bootcamp |events         |false      |\n",
      "|bootcamp |events_sorted  |false      |\n",
      "|bootcamp |events_unsorted|false      |\n",
      "+---------+---------------+-----------+\n",
      "\n"
     ]
    },
    {
     "data": {
      "text/plain": [
       "DataFrame[namespace: string, tableName: string, isTemporary: boolean]"
      ]
     },
     "execution_count": 31,
     "metadata": {},
     "output_type": "execute_result"
    }
   ],
   "source": [
    "%%sparksql\n",
    "SHOW TABLES IN mycatalog.bootcamp\n"
   ]
  },
  {
   "cell_type": "code",
   "execution_count": 32,
   "id": "c40b143f-295e-4875-bd7f-12409312b800",
   "metadata": {
    "scrolled": true
   },
   "outputs": [
    {
     "name": "stdout",
     "output_type": "stream",
     "text": [
      "++\n",
      "||\n",
      "++\n",
      "++\n",
      "\n"
     ]
    },
    {
     "data": {
      "text/plain": [
       "DataFrame[]"
      ]
     },
     "execution_count": 32,
     "metadata": {},
     "output_type": "execute_result"
    }
   ],
   "source": [
    "%%sparksql\n",
    "CREATE TABLE IF NOT EXISTS mycatalog.bootcamp.events_sorted (\n",
    "    url STRING,\n",
    "    referrer STRING,\n",
    "    browser_family STRING,\n",
    "    os_family STRING,\n",
    "    device_family STRING,\n",
    "    host STRING,\n",
    "    event_time TIMESTAMP,\n",
    "    event_date DATE\n",
    ")\n",
    "USING iceberg\n",
    "PARTITIONED BY (event_date)\n"
   ]
  },
  {
   "cell_type": "code",
   "execution_count": 33,
   "id": "00c86e79-a911-464c-ad58-acc92859dcc6",
   "metadata": {
    "scrolled": true
   },
   "outputs": [
    {
     "name": "stdout",
     "output_type": "stream",
     "text": [
      "++\n",
      "||\n",
      "++\n",
      "++\n",
      "\n"
     ]
    },
    {
     "data": {
      "text/plain": [
       "DataFrame[]"
      ]
     },
     "execution_count": 33,
     "metadata": {},
     "output_type": "execute_result"
    }
   ],
   "source": [
    "%%sparksql\n",
    "\n",
    "CREATE TABLE IF NOT EXISTS mycatalog.bootcamp.events_unsorted (\n",
    "    url STRING,\n",
    "    referrer STRING,\n",
    "    browser_family STRING,\n",
    "    os_family STRING,\n",
    "    device_family STRING,\n",
    "    host STRING,\n",
    "    event_time TIMESTAMP,\n",
    "    event_date DATE\n",
    ")\n",
    "USING iceberg\n",
    "PARTITIONED BY (event_date) \n"
   ]
  },
  {
   "cell_type": "code",
   "execution_count": 34,
   "id": "2c1254bc-9ecf-4c86-bfd9-de81ecfbb78b",
   "metadata": {},
   "outputs": [
    {
     "name": "stderr",
     "output_type": "stream",
     "text": [
      "                                                                                \r"
     ]
    }
   ],
   "source": [
    "start_df = df.repartition(4, col(\"event_date\")).withColumn(\"event_time\", col(\"event_time\").cast(\"timestamp\")) \\\n",
    "    \n",
    "first_sort_df = start_df.sortWithinPartitions(col(\"event_date\"), col(\"host\"))\n",
    "\n",
    "start_df.write.mode(\"overwrite\").saveAsTable(\"mycatalog.bootcamp.events_unsorted\")\n",
    "first_sort_df.write.mode(\"overwrite\").saveAsTable(\"mycatalog.bootcamp.events_sorted\")"
   ]
  },
  {
   "cell_type": "code",
   "execution_count": 35,
   "id": "d207a11b-b0a4-4662-bbe9-747d8f67be7d",
   "metadata": {},
   "outputs": [
    {
     "name": "stderr",
     "output_type": "stream",
     "text": [
      "[Stage 46:>                                                         (0 + 1) / 1]\r"
     ]
    },
    {
     "name": "stdout",
     "output_type": "stream",
     "text": [
      "+-------+---------+--------+\n",
      "|size   |num_files|sorted  |\n",
      "+-------+---------+--------+\n",
      "|5444855|4        |sorted  |\n",
      "|5575558|4        |unsorted|\n",
      "+-------+---------+--------+\n",
      "\n"
     ]
    },
    {
     "name": "stderr",
     "output_type": "stream",
     "text": [
      "                                                                                \r"
     ]
    },
    {
     "data": {
      "text/plain": [
       "DataFrame[size: bigint, num_files: bigint, sorted: string]"
      ]
     },
     "execution_count": 35,
     "metadata": {},
     "output_type": "execute_result"
    }
   ],
   "source": [
    "%%sparksql\n",
    "\n",
    "SELECT SUM(file_size_in_bytes) as size, COUNT(1) as num_files, 'sorted' \n",
    "FROM mycatalog.bootcamp.events_sorted.files\n",
    "\n",
    "UNION ALL\n",
    "SELECT SUM(file_size_in_bytes) as size, COUNT(1) as num_files, 'unsorted' \n",
    "FROM mycatalog.bootcamp.events_unsorted.files\n"
   ]
  },
  {
   "cell_type": "code",
   "execution_count": 37,
   "id": "a93db4d6-ac15-4d0e-83da-77b93ad618da",
   "metadata": {},
   "outputs": [
    {
     "name": "stdout",
     "output_type": "stream",
     "text": [
      "+----+---------+\n",
      "|size|num_files|\n",
      "+----+---------+\n",
      "|NULL|0        |\n",
      "+----+---------+\n",
      "\n"
     ]
    },
    {
     "data": {
      "text/plain": [
       "DataFrame[size: bigint, num_files: bigint]"
      ]
     },
     "execution_count": 37,
     "metadata": {},
     "output_type": "execute_result"
    }
   ],
   "source": [
    "%%sparksql\n",
    "SELECT SUM(file_size_in_bytes) as size, COUNT(1) as num_files FROM mycatalog.bootcamp.events.files;"
   ]
  },
  {
   "cell_type": "code",
   "execution_count": 40,
   "id": "94f1edcd",
   "metadata": {
    "collapsed": false,
    "jupyter": {
     "outputs_hidden": false
    },
    "pycharm": {
     "name": "#%%\n"
    }
   },
   "outputs": [
    {
     "ename": "AnalysisException",
     "evalue": "[TABLE_OR_VIEW_NOT_FOUND] The table or view `mycatalog`.`bootcamp`.`matches_bucketed`.`files` cannot be found. Verify the spelling and correctness of the schema and catalog.\nIf you did not qualify the name with a schema, verify the current_schema() output, or qualify the name with the correct schema and catalog.\nTo tolerate the error on drop use DROP VIEW IF EXISTS or DROP TABLE IF EXISTS.; line 1 pos 21;\n'Aggregate [unresolvedalias(count(1), None)]\n+- 'UnresolvedRelation [mycatalog, bootcamp, matches_bucketed, files], [], false\n",
     "output_type": "error",
     "traceback": [
      "\u001b[0;31m---------------------------------------------------------------------------\u001b[0m",
      "\u001b[0;31mAnalysisException\u001b[0m                         Traceback (most recent call last)",
      "Cell \u001b[0;32mIn[40], line 1\u001b[0m\n\u001b[0;32m----> 1\u001b[0m \u001b[43mget_ipython\u001b[49m\u001b[43m(\u001b[49m\u001b[43m)\u001b[49m\u001b[38;5;241;43m.\u001b[39;49m\u001b[43mrun_cell_magic\u001b[49m\u001b[43m(\u001b[49m\u001b[38;5;124;43m'\u001b[39;49m\u001b[38;5;124;43msparksql\u001b[39;49m\u001b[38;5;124;43m'\u001b[39;49m\u001b[43m,\u001b[49m\u001b[43m \u001b[49m\u001b[38;5;124;43m'\u001b[39;49m\u001b[38;5;124;43m'\u001b[39;49m\u001b[43m,\u001b[49m\u001b[43m \u001b[49m\u001b[38;5;124;43m'\u001b[39;49m\u001b[38;5;124;43mSELECT COUNT(1) FROM mycatalog.bootcamp.matches_bucketed.files\u001b[39;49m\u001b[38;5;130;43;01m\\n\u001b[39;49;00m\u001b[38;5;124;43m'\u001b[39;49m\u001b[43m)\u001b[49m\n",
      "File \u001b[0;32m/usr/local/lib/python3.8/dist-packages/IPython/core/interactiveshell.py:2475\u001b[0m, in \u001b[0;36mInteractiveShell.run_cell_magic\u001b[0;34m(self, magic_name, line, cell)\u001b[0m\n\u001b[1;32m   2473\u001b[0m \u001b[38;5;28;01mwith\u001b[39;00m \u001b[38;5;28mself\u001b[39m\u001b[38;5;241m.\u001b[39mbuiltin_trap:\n\u001b[1;32m   2474\u001b[0m     args \u001b[38;5;241m=\u001b[39m (magic_arg_s, cell)\n\u001b[0;32m-> 2475\u001b[0m     result \u001b[38;5;241m=\u001b[39m \u001b[43mfn\u001b[49m\u001b[43m(\u001b[49m\u001b[38;5;241;43m*\u001b[39;49m\u001b[43margs\u001b[49m\u001b[43m,\u001b[49m\u001b[43m \u001b[49m\u001b[38;5;241;43m*\u001b[39;49m\u001b[38;5;241;43m*\u001b[39;49m\u001b[43mkwargs\u001b[49m\u001b[43m)\u001b[49m\n\u001b[1;32m   2477\u001b[0m \u001b[38;5;66;03m# The code below prevents the output from being displayed\u001b[39;00m\n\u001b[1;32m   2478\u001b[0m \u001b[38;5;66;03m# when using magics with decodator @output_can_be_silenced\u001b[39;00m\n\u001b[1;32m   2479\u001b[0m \u001b[38;5;66;03m# when the last Python token in the expression is a ';'.\u001b[39;00m\n\u001b[1;32m   2480\u001b[0m \u001b[38;5;28;01mif\u001b[39;00m \u001b[38;5;28mgetattr\u001b[39m(fn, magic\u001b[38;5;241m.\u001b[39mMAGIC_OUTPUT_CAN_BE_SILENCED, \u001b[38;5;28;01mFalse\u001b[39;00m):\n",
      "Cell \u001b[0;32mIn[20], line 5\u001b[0m, in \u001b[0;36msparksql\u001b[0;34m(line, cell)\u001b[0m\n\u001b[1;32m      2\u001b[0m \u001b[38;5;129m@register_cell_magic\u001b[39m\n\u001b[1;32m      3\u001b[0m \u001b[38;5;28;01mdef\u001b[39;00m\u001b[38;5;250m \u001b[39m\u001b[38;5;21msparksql\u001b[39m(line, cell):\n\u001b[1;32m      4\u001b[0m \u001b[38;5;250m    \u001b[39m\u001b[38;5;124;03m\"\"\"Run SQL queries using %%sparksql in a Jupyter cell.\"\"\"\u001b[39;00m\n\u001b[0;32m----> 5\u001b[0m     result \u001b[38;5;241m=\u001b[39m \u001b[43mspark\u001b[49m\u001b[38;5;241;43m.\u001b[39;49m\u001b[43msql\u001b[49m\u001b[43m(\u001b[49m\u001b[43mcell\u001b[49m\u001b[43m)\u001b[49m\n\u001b[1;32m      6\u001b[0m     result\u001b[38;5;241m.\u001b[39mshow(truncate\u001b[38;5;241m=\u001b[39m\u001b[38;5;28;01mFalse\u001b[39;00m)\n\u001b[1;32m      7\u001b[0m     \u001b[38;5;28;01mreturn\u001b[39;00m result\n",
      "File \u001b[0;32m/usr/local/lib/python3.8/dist-packages/pyspark/sql/session.py:1631\u001b[0m, in \u001b[0;36mSparkSession.sql\u001b[0;34m(self, sqlQuery, args, **kwargs)\u001b[0m\n\u001b[1;32m   1627\u001b[0m         \u001b[38;5;28;01massert\u001b[39;00m \u001b[38;5;28mself\u001b[39m\u001b[38;5;241m.\u001b[39m_jvm \u001b[38;5;129;01mis\u001b[39;00m \u001b[38;5;129;01mnot\u001b[39;00m \u001b[38;5;28;01mNone\u001b[39;00m\n\u001b[1;32m   1628\u001b[0m         litArgs \u001b[38;5;241m=\u001b[39m \u001b[38;5;28mself\u001b[39m\u001b[38;5;241m.\u001b[39m_jvm\u001b[38;5;241m.\u001b[39mPythonUtils\u001b[38;5;241m.\u001b[39mtoArray(\n\u001b[1;32m   1629\u001b[0m             [_to_java_column(lit(v)) \u001b[38;5;28;01mfor\u001b[39;00m v \u001b[38;5;129;01min\u001b[39;00m (args \u001b[38;5;129;01mor\u001b[39;00m [])]\n\u001b[1;32m   1630\u001b[0m         )\n\u001b[0;32m-> 1631\u001b[0m     \u001b[38;5;28;01mreturn\u001b[39;00m DataFrame(\u001b[38;5;28;43mself\u001b[39;49m\u001b[38;5;241;43m.\u001b[39;49m\u001b[43m_jsparkSession\u001b[49m\u001b[38;5;241;43m.\u001b[39;49m\u001b[43msql\u001b[49m\u001b[43m(\u001b[49m\u001b[43msqlQuery\u001b[49m\u001b[43m,\u001b[49m\u001b[43m \u001b[49m\u001b[43mlitArgs\u001b[49m\u001b[43m)\u001b[49m, \u001b[38;5;28mself\u001b[39m)\n\u001b[1;32m   1632\u001b[0m \u001b[38;5;28;01mfinally\u001b[39;00m:\n\u001b[1;32m   1633\u001b[0m     \u001b[38;5;28;01mif\u001b[39;00m \u001b[38;5;28mlen\u001b[39m(kwargs) \u001b[38;5;241m>\u001b[39m \u001b[38;5;241m0\u001b[39m:\n",
      "File \u001b[0;32m/usr/local/lib/python3.8/dist-packages/py4j/java_gateway.py:1322\u001b[0m, in \u001b[0;36mJavaMember.__call__\u001b[0;34m(self, *args)\u001b[0m\n\u001b[1;32m   1316\u001b[0m command \u001b[38;5;241m=\u001b[39m proto\u001b[38;5;241m.\u001b[39mCALL_COMMAND_NAME \u001b[38;5;241m+\u001b[39m\\\n\u001b[1;32m   1317\u001b[0m     \u001b[38;5;28mself\u001b[39m\u001b[38;5;241m.\u001b[39mcommand_header \u001b[38;5;241m+\u001b[39m\\\n\u001b[1;32m   1318\u001b[0m     args_command \u001b[38;5;241m+\u001b[39m\\\n\u001b[1;32m   1319\u001b[0m     proto\u001b[38;5;241m.\u001b[39mEND_COMMAND_PART\n\u001b[1;32m   1321\u001b[0m answer \u001b[38;5;241m=\u001b[39m \u001b[38;5;28mself\u001b[39m\u001b[38;5;241m.\u001b[39mgateway_client\u001b[38;5;241m.\u001b[39msend_command(command)\n\u001b[0;32m-> 1322\u001b[0m return_value \u001b[38;5;241m=\u001b[39m \u001b[43mget_return_value\u001b[49m\u001b[43m(\u001b[49m\n\u001b[1;32m   1323\u001b[0m \u001b[43m    \u001b[49m\u001b[43manswer\u001b[49m\u001b[43m,\u001b[49m\u001b[43m \u001b[49m\u001b[38;5;28;43mself\u001b[39;49m\u001b[38;5;241;43m.\u001b[39;49m\u001b[43mgateway_client\u001b[49m\u001b[43m,\u001b[49m\u001b[43m \u001b[49m\u001b[38;5;28;43mself\u001b[39;49m\u001b[38;5;241;43m.\u001b[39;49m\u001b[43mtarget_id\u001b[49m\u001b[43m,\u001b[49m\u001b[43m \u001b[49m\u001b[38;5;28;43mself\u001b[39;49m\u001b[38;5;241;43m.\u001b[39;49m\u001b[43mname\u001b[49m\u001b[43m)\u001b[49m\n\u001b[1;32m   1325\u001b[0m \u001b[38;5;28;01mfor\u001b[39;00m temp_arg \u001b[38;5;129;01min\u001b[39;00m temp_args:\n\u001b[1;32m   1326\u001b[0m     \u001b[38;5;28;01mif\u001b[39;00m \u001b[38;5;28mhasattr\u001b[39m(temp_arg, \u001b[38;5;124m\"\u001b[39m\u001b[38;5;124m_detach\u001b[39m\u001b[38;5;124m\"\u001b[39m):\n",
      "File \u001b[0;32m/usr/local/lib/python3.8/dist-packages/pyspark/errors/exceptions/captured.py:185\u001b[0m, in \u001b[0;36mcapture_sql_exception.<locals>.deco\u001b[0;34m(*a, **kw)\u001b[0m\n\u001b[1;32m    181\u001b[0m converted \u001b[38;5;241m=\u001b[39m convert_exception(e\u001b[38;5;241m.\u001b[39mjava_exception)\n\u001b[1;32m    182\u001b[0m \u001b[38;5;28;01mif\u001b[39;00m \u001b[38;5;129;01mnot\u001b[39;00m \u001b[38;5;28misinstance\u001b[39m(converted, UnknownException):\n\u001b[1;32m    183\u001b[0m     \u001b[38;5;66;03m# Hide where the exception came from that shows a non-Pythonic\u001b[39;00m\n\u001b[1;32m    184\u001b[0m     \u001b[38;5;66;03m# JVM exception message.\u001b[39;00m\n\u001b[0;32m--> 185\u001b[0m     \u001b[38;5;28;01mraise\u001b[39;00m converted \u001b[38;5;28;01mfrom\u001b[39;00m\u001b[38;5;250m \u001b[39m\u001b[38;5;28;01mNone\u001b[39;00m\n\u001b[1;32m    186\u001b[0m \u001b[38;5;28;01melse\u001b[39;00m:\n\u001b[1;32m    187\u001b[0m     \u001b[38;5;28;01mraise\u001b[39;00m\n",
      "\u001b[0;31mAnalysisException\u001b[0m: [TABLE_OR_VIEW_NOT_FOUND] The table or view `mycatalog`.`bootcamp`.`matches_bucketed`.`files` cannot be found. Verify the spelling and correctness of the schema and catalog.\nIf you did not qualify the name with a schema, verify the current_schema() output, or qualify the name with the correct schema and catalog.\nTo tolerate the error on drop use DROP VIEW IF EXISTS or DROP TABLE IF EXISTS.; line 1 pos 21;\n'Aggregate [unresolvedalias(count(1), None)]\n+- 'UnresolvedRelation [mycatalog, bootcamp, matches_bucketed, files], [], false\n"
     ]
    }
   ],
   "source": [
    "%%sparksql\n",
    "SELECT COUNT(1) FROM mycatalog.bootcamp.matches_bucketed.files"
   ]
  },
  {
   "cell_type": "code",
   "execution_count": null,
   "id": "b9654013-1438-4c5b-9bba-a75f5e7634aa",
   "metadata": {},
   "outputs": [],
   "source": []
  }
 ],
 "metadata": {
  "kernelspec": {
   "display_name": "Python 3 (ipykernel)",
   "language": "python",
   "name": "python3"
  },
  "language_info": {
   "codemirror_mode": {
    "name": "ipython",
    "version": 3
   },
   "file_extension": ".py",
   "mimetype": "text/x-python",
   "name": "python",
   "nbconvert_exporter": "python",
   "pygments_lexer": "ipython3",
   "version": "3.8.10"
  }
 },
 "nbformat": 4,
 "nbformat_minor": 5
}
